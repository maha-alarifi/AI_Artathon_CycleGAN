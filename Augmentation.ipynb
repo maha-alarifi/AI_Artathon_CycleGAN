{
  "nbformat": 4,
  "nbformat_minor": 0,
  "metadata": {
    "colab": {
      "name": "Augmentation.ipynb",
      "provenance": [],
      "collapsed_sections": [
        "Lnwc2yhymy9G"
      ]
    },
    "kernelspec": {
      "name": "python3",
      "display_name": "Python 3"
    },
    "accelerator": "GPU"
  },
  "cells": [
    {
      "cell_type": "code",
      "metadata": {
        "id": "oGWlFWqrDAGR",
        "colab_type": "code",
        "outputId": "5b36ed35-3ab9-4b1b-c31f-81e4a4243ea5",
        "colab": {
          "base_uri": "https://localhost:8080/",
          "height": 125
        }
      },
      "source": [
        "from google.colab import drive\n",
        "drive.mount('/content/gdrive')"
      ],
      "execution_count": 2,
      "outputs": [
        {
          "output_type": "stream",
          "text": [
            "Go to this URL in a browser: https://accounts.google.com/o/oauth2/auth?client_id=947318989803-6bn6qk8qdgf4n4g3pfee6491hc0brc4i.apps.googleusercontent.com&redirect_uri=urn%3aietf%3awg%3aoauth%3a2.0%3aoob&response_type=code&scope=email%20https%3a%2f%2fwww.googleapis.com%2fauth%2fdocs.test%20https%3a%2f%2fwww.googleapis.com%2fauth%2fdrive%20https%3a%2f%2fwww.googleapis.com%2fauth%2fdrive.photos.readonly%20https%3a%2f%2fwww.googleapis.com%2fauth%2fpeopleapi.readonly\n",
            "\n",
            "Enter your authorization code:\n",
            "··········\n",
            "Mounted at /content/gdrive\n"
          ],
          "name": "stdout"
        }
      ]
    },
    {
      "cell_type": "code",
      "metadata": {
        "id": "EyEdP6JHachP",
        "colab_type": "code",
        "outputId": "467b9cba-97aa-407a-ae4b-f1274249fa1d",
        "colab": {
          "base_uri": "https://localhost:8080/",
          "height": 178
        }
      },
      "source": [
        "pip install Augmentor"
      ],
      "execution_count": 3,
      "outputs": [
        {
          "output_type": "stream",
          "text": [
            "Collecting Augmentor\n",
            "  Downloading https://files.pythonhosted.org/packages/cb/79/861f38d5830cff631e30e33b127076bfef8ac98171e51daa06df0118c75f/Augmentor-0.2.8-py2.py3-none-any.whl\n",
            "Requirement already satisfied: future>=0.16.0 in /usr/local/lib/python3.6/dist-packages (from Augmentor) (0.16.0)\n",
            "Requirement already satisfied: Pillow>=5.2.0 in /usr/local/lib/python3.6/dist-packages (from Augmentor) (6.2.2)\n",
            "Requirement already satisfied: numpy>=1.11.0 in /usr/local/lib/python3.6/dist-packages (from Augmentor) (1.17.5)\n",
            "Requirement already satisfied: tqdm>=4.9.0 in /usr/local/lib/python3.6/dist-packages (from Augmentor) (4.28.1)\n",
            "Installing collected packages: Augmentor\n",
            "Successfully installed Augmentor-0.2.8\n"
          ],
          "name": "stdout"
        }
      ]
    },
    {
      "cell_type": "code",
      "metadata": {
        "id": "dJm8iZjWacrl",
        "colab_type": "code",
        "colab": {}
      },
      "source": [
        "import Augmentor"
      ],
      "execution_count": 0,
      "outputs": []
    },
    {
      "cell_type": "markdown",
      "metadata": {
        "id": "gpvL0feamlKV",
        "colab_type": "text"
      },
      "source": [
        "# **Preparing Dataset A**"
      ]
    },
    {
      "cell_type": "code",
      "metadata": {
        "id": "YBpV5V7uacv1",
        "colab_type": "code",
        "outputId": "d302208a-bfea-4909-d1d6-f3ffc18e813c",
        "colab": {
          "base_uri": "https://localhost:8080/",
          "height": 52
        }
      },
      "source": [
        "p = Augmentor.Pipeline(\"/content/gdrive/My Drive/Ai Dataset. February 21/Dataset - large/Ai-Pattern\")"
      ],
      "execution_count": 4,
      "outputs": [
        {
          "output_type": "stream",
          "text": [
            "Initialised with 40 image(s) found.\n",
            "Output directory set to /content/gdrive/My Drive/Ai Dataset. February 21/Dataset - large/Ai-Pattern/output."
          ],
          "name": "stdout"
        }
      ]
    },
    {
      "cell_type": "code",
      "metadata": {
        "colab_type": "code",
        "outputId": "e1d409f3-59b7-4f00-c397-7c16f250d50f",
        "id": "6u2VLoLh_n-j",
        "colab": {
          "base_uri": "https://localhost:8080/",
          "height": 54
        }
      },
      "source": [
        "p.rotate_random_90(probability=0.7)\n",
        "p.rotate(probability= 0.75, max_left_rotation=15, max_right_rotation=15)\n",
        "p.flip_left_right(probability=0.7)\n",
        "p.flip_top_bottom(probability=0.75)\n",
        "#p.random_erasing(probability=1.0, rectangle_area=0.2)\n",
        "#p.zoom(probability=1.0, min_factor=1.1, max_factor=1.5)\n",
        "#p.crop_random(probability=1.0, width= 256, height= 256)\n",
        "p.gaussian_distortion(probability=0.7, grid_width=2, grid_height=2, magnitude=2, corner=\"bell\", method=\"in\")\n",
        "p.sample(350)"
      ],
      "execution_count": 9,
      "outputs": [
        {
          "output_type": "stream",
          "text": [
            "Processing <PIL.Image.Image image mode=RGB size=4001x4001 at 0x7F21847C2588>: 100%|██████████| 350/350 [31:04<00:00,  4.52s/ Samples]\n"
          ],
          "name": "stderr"
        }
      ]
    },
    {
      "cell_type": "markdown",
      "metadata": {
        "id": "Lnwc2yhymy9G",
        "colab_type": "text"
      },
      "source": [
        "# **Preparing Dataset B**"
      ]
    },
    {
      "cell_type": "code",
      "metadata": {
        "id": "Kv9J0b1wf78a",
        "colab_type": "code",
        "outputId": "5010bb03-6957-4a43-a98f-e6183ed83d9b",
        "colab": {
          "base_uri": "https://localhost:8080/",
          "height": 52
        }
      },
      "source": [
        "p2 = Augmentor.Pipeline(\"/content/gdrive/My Drive/Ai Dataset. February 21/Dataset - large/Ai-Object\")"
      ],
      "execution_count": 10,
      "outputs": [
        {
          "output_type": "stream",
          "text": [
            "Initialised with 39 image(s) found.\n",
            "Output directory set to /content/gdrive/My Drive/Ai Dataset. February 21/Dataset - large/Ai-Object/output."
          ],
          "name": "stdout"
        }
      ]
    },
    {
      "cell_type": "code",
      "metadata": {
        "id": "myHz-n2UlbgB",
        "colab_type": "code",
        "outputId": "8d86c558-b7f4-4f1f-b7b7-ad85353ccf1b",
        "colab": {
          "base_uri": "https://localhost:8080/",
          "height": 54
        }
      },
      "source": [
        "p2.rotate_random_90(probability=0.7)\n",
        "p2.rotate(probability= 0.75, max_left_rotation=15, max_right_rotation=15)\n",
        "p2.flip_left_right(probability=0.7)\n",
        "p2.flip_top_bottom(probability=0.75)\n",
        "#p2.random_erasing(probability=1.0, rectangle_area=0.2)\n",
        "#p2.zoom(probability=1.0, min_factor=1.1, max_factor=1.5)\n",
        "#p2.crop_random(probability=1.0, width= 256, height= 256)\n",
        "p2.gaussian_distortion(probability=0.7, grid_width=2, grid_height=2, magnitude=2, corner=\"bell\", method=\"in\")\n",
        "p2.sample(350)"
      ],
      "execution_count": 11,
      "outputs": [
        {
          "output_type": "stream",
          "text": [
            "Processing <PIL.Image.Image image mode=RGB size=4001x4000 at 0x7F218A034F28>: 100%|██████████| 350/350 [16:37<00:00,  1.36s/ Samples]\n"
          ],
          "name": "stderr"
        }
      ]
    },
    {
      "cell_type": "markdown",
      "metadata": {
        "id": "SdIM7lGr8OQN",
        "colab_type": "text"
      },
      "source": [
        "# **Preparing Dataset C**"
      ]
    },
    {
      "cell_type": "code",
      "metadata": {
        "id": "cw-1XotWK84b",
        "colab_type": "code",
        "colab": {
          "base_uri": "https://localhost:8080/",
          "height": 52
        },
        "outputId": "a73b06ed-13c1-46ba-cf68-7d34af47c4ed"
      },
      "source": [
        "p3 = Augmentor.Pipeline(\"/content/gdrive/My Drive/Cars Dataset/content/Cars\")"
      ],
      "execution_count": 5,
      "outputs": [
        {
          "output_type": "stream",
          "text": [
            "Initialised with 100 image(s) found.\n",
            "Output directory set to /content/gdrive/My Drive/Cars Dataset/content/Cars/output."
          ],
          "name": "stdout"
        }
      ]
    },
    {
      "cell_type": "code",
      "metadata": {
        "id": "R55JesJrNAg2",
        "colab_type": "code",
        "colab": {
          "base_uri": "https://localhost:8080/",
          "height": 54
        },
        "outputId": "f4c2ca92-1883-48bb-a4ba-06499bed54e9"
      },
      "source": [
        "p3.rotate_random_90(probability=0.7)\n",
        "p3.rotate(probability= 0.75, max_left_rotation=15, max_right_rotation=15)\n",
        "p3.flip_left_right(probability=0.7)\n",
        "p3.flip_top_bottom(probability=0.75)\n",
        "#p3.random_erasing(probability=1.0, rectangle_area=0.2)\n",
        "#p3.zoom(probability=1.0, min_factor=1.1, max_factor=1.5)\n",
        "#p3.crop_random(probability=1.0, width= 256, height= 256)\n",
        "p3.gaussian_distortion(probability=0.7, grid_width=2, grid_height=2, magnitude=2, corner=\"bell\", method=\"in\")\n",
        "p3.sample(350)"
      ],
      "execution_count": 6,
      "outputs": [
        {
          "output_type": "stream",
          "text": [
            "Processing <PIL.Image.Image image mode=RGB size=522x730 at 0x7F1C50396B00>: 100%|██████████| 350/350 [00:23<00:00, 20.50 Samples/s]\n"
          ],
          "name": "stderr"
        }
      ]
    },
    {
      "cell_type": "code",
      "metadata": {
        "id": "WwOP-GHMNtmg",
        "colab_type": "code",
        "colab": {}
      },
      "source": [
        ""
      ],
      "execution_count": 0,
      "outputs": []
    }
  ]
}